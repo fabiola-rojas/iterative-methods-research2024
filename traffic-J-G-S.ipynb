{
 "cells": [
  {
   "cell_type": "markdown",
   "id": "39a4df64-0615-406c-8e9b-0d77b5b840de",
   "metadata": {
    "id": "39a4df64-0615-406c-8e9b-0d77b5b840de"
   },
   "source": [
    "## Dependencies"
   ]
  },
  {
   "cell_type": "code",
   "execution_count": 5,
   "id": "54a454bd-5614-42e5-b2b3-d2fd51dae695",
   "metadata": {
    "id": "54a454bd-5614-42e5-b2b3-d2fd51dae695",
    "tags": []
   },
   "outputs": [],
   "source": [
    "from numpy import array, diag, diagflat, dot, tril, triu, linalg\n",
    "import numpy as np\n"
   ]
  },
  {
   "cell_type": "markdown",
   "id": "6bb69dca-3ef2-49fa-874e-b1cd72217503",
   "metadata": {},
   "source": [
    "## Generate Traffic Matrix"
   ]
  },
  {
   "cell_type": "code",
   "execution_count": 6,
   "id": "d8abf647-96ae-4d73-93c8-4b0997b97541",
   "metadata": {
    "tags": []
   },
   "outputs": [],
   "source": [
    "# generate traffic matrix\n",
    "def generate_matrix(rows, cols):\n",
    "    matrix = np.zeros((rows, cols))\n",
    "\n",
    "    for i in range(rows - 1):\n",
    "        matrix[i, i] = 1\n",
    "        matrix[i, i + 1] = -1\n",
    "\n",
    "    matrix[rows - 1, 0] = -1\n",
    "    matrix[rows - 1, cols - 1] = 1\n",
    "\n",
    "    #delete last column\n",
    "    matrix = matrix[:, :-1]\n",
    "\n",
    "    matrix = matrix.astype(int)\n",
    "\n",
    "    return matrix\n",
    "\n",
    "matrix = generate_matrix(32,32)\n",
    "# transpose matrix * matrix\n",
    "A = matrix.T @ matrix\n",
    "\n",
    "import pandas as pd\n",
    "# upload exit data as array\n",
    "exit_data = pd.read_excel(\"/Users/fabiolarojas/Documents/research2024/traffic-data.xlsx\",\n",
    "                        usecols=\"B\")\n",
    "exit_array = exit_data.values\n",
    "b = matrix.T @ exit_array\n",
    "\n",
    "x0 = np.zeros((31,1))\n"
   ]
  },
  {
   "cell_type": "code",
   "execution_count": 7,
   "id": "56ad3b8c-ebf9-4b43-b11e-2405557024a2",
   "metadata": {
    "tags": []
   },
   "outputs": [
    {
     "data": {
      "text/plain": [
       "(31, 1)"
      ]
     },
     "execution_count": 7,
     "metadata": {},
     "output_type": "execute_result"
    }
   ],
   "source": [
    "b.shape"
   ]
  },
  {
   "cell_type": "markdown",
   "id": "5ed70dea-434e-44d5-b3d8-fe859f2798ee",
   "metadata": {
    "id": "5ed70dea-434e-44d5-b3d8-fe859f2798ee"
   },
   "source": [
    "## Jacobi"
   ]
  },
  {
   "cell_type": "markdown",
   "id": "p7BMMy3f1kSN",
   "metadata": {
    "id": "p7BMMy3f1kSN"
   },
   "source": [
    "### Spectral Radius (Jacobi)\n",
    "The spectral radius $r_j$ of the matrix $T_j$, derived from components of user-given matrix $A$, determines whether or not $\\vec{x}$ can be calculated using the Jacobi iterative method.$$T_j = D^{-1}(L + U)$$ The diagonal matrix $D$ must be invertible in order to calculate $T_j$ and $r_j$, so matrix $A$ must contain only non-zero entries along the diagonal. The spectral radius is the maximum of the absolute values of $T_j$'s eigenvalues. In each iteration of the Jacobi method, each approximation of $\\vec{x}$ is proportional to the previous approximation, and the approximations will converge to the true solution. This means that the constant of proportionality (spectral radius, in this case) must be less than 1, or else each iteration will gradually cause $\\vec{x}$ to approach infinity."
   ]
  },
  {
   "cell_type": "code",
   "execution_count": 8,
   "id": "7aa7e0b5-da3c-4948-9979-82e1b3b911f6",
   "metadata": {
    "id": "7aa7e0b5-da3c-4948-9979-82e1b3b911f6",
    "tags": []
   },
   "outputs": [],
   "source": [
    "def spectral_radius_jacobi(A):\n",
    "    \"\"\"\n",
    "    This function first determines if the spectral radius can be\n",
    "    calculated by checking for zero entries in the diagonal of A.\n",
    "    If any zeros are found, the code will stop running.\n",
    "    Components of A (D, L, U) are extracted to find T_j and then calculate\n",
    "    the spectral radius, which is assigned to variable r_j.\n",
    "    If the spectral radius is greater than or equal to 1, the code will\n",
    "    stop running.\n",
    "    Returns spectral radius r_j.\n",
    "    \"\"\"\n",
    "\n",
    "    np.set_printoptions(formatter={'float': lambda x: f'{x:.4f}'})\n",
    "    global D, L, U, D_inv, T_j\n",
    "\n",
    "    if not np.all(np.diag(A)) != 0: # make sure diagonals are nonzero before continuing\n",
    "        print(\"The diagonal of matrix A includes zero entries, spectral radius undefined.\")\n",
    "        return False\n",
    "\n",
    "    D = np.diag(diag(A)) # extract diagonal values\n",
    "    L = -np.tril(A, k=-1) # extract values below diagonal\n",
    "    U = -np.triu(A, k=1) # extract values above diagonal\n",
    "    D_inv = np.linalg.inv(D) # inverse of diagonal matrix\n",
    "\n",
    "    T_j = D_inv@(L + U)\n",
    "\n",
    "    eigenvalues = np.linalg.eigvals(T_j) # eigenvalues of T_j\n",
    "    abs_eigenvalues = np.abs(eigenvalues) # absolute values of eigenvalues\n",
    "    max_eigenvalue = np.max(abs_eigenvalues) # maximum of the absolute values\n",
    "    r_j = max_eigenvalue\n",
    "\n",
    "    if r_j >= 1:\n",
    "        print(\"x will not converge\") # spectral radius must be less than 1\n",
    "        return False\n",
    "    else:\n",
    "        print(\"x will converge via Jacobi method\")\n",
    "        print(f\"Jacobi spectral radius: {r_j:.4f}\")\n",
    "        print()\n",
    "    return r_j\n"
   ]
  },
  {
   "cell_type": "markdown",
   "id": "4I_tez3s17n-",
   "metadata": {
    "id": "4I_tez3s17n-"
   },
   "source": [
    "### Number of Iterations (Jacobi)\n",
    "The iterative process will stop when some convergence criterion is reached. We want the error between the true $\\vec{x}$ and the estimated $\\vec{x}$ to be very small, so the user is asked to define this threshold. Ideally, it should be 0.001 or smaller. Once this input is received, the estimated number of iterations $k$ can be calculated via the following formula: $$k > \\frac{\\log\\left(\\frac{{\\text{threshold} \\cdot (1-r_j)}}{{\\|x^{(1)} - x^{(0)}\\|}}\\right)}{\\log(r_j)}\n",
    "$$This is just an estimate, but it does get very close to the true $\\vec{x}$."
   ]
  },
  {
   "cell_type": "code",
   "execution_count": 9,
   "id": "fcd9c5a6-e604-4c78-aba1-ba8589482ec2",
   "metadata": {
    "id": "fcd9c5a6-e604-4c78-aba1-ba8589482ec2",
    "tags": []
   },
   "outputs": [],
   "source": [
    "def num_iterations_jacobi(A):\n",
    "    \"\"\"\n",
    "    This function first takes user input for the convergence threshold.\n",
    "    The first iteration x1 and the difference x1-x0 are calculated to be\n",
    "    used in the formula to find the estimated number of iterations k.\n",
    "    Returns number of iterations k.\n",
    "    \"\"\"\n",
    "\n",
    "    global threshold, c_j, x1\n",
    "    threshold = float(input(\"Enter the convergence threshold (suggested: 0.001 or smaller): \"))\n",
    "    print()\n",
    "\n",
    "    # calculate c\n",
    "    c_j = D_inv@b\n",
    "\n",
    "    # first iteration x1\n",
    "    x1 = T_j@x0 + c_j\n",
    "\n",
    "    diff = np.linalg.norm(x1-x0)\n",
    "\n",
    "    k = int(np.ceil(np.log(threshold * (1 - r_j) / diff) / np.log(r_j)))\n",
    "    print(f\"Estimated number of iterations: {k}\")\n",
    "    print()\n",
    "    return k\n"
   ]
  },
  {
   "cell_type": "markdown",
   "id": "25EcVfJx2wYh",
   "metadata": {
    "id": "25EcVfJx2wYh"
   },
   "source": [
    "### Jacobi Iterative Method"
   ]
  },
  {
   "cell_type": "markdown",
   "id": "316a76e9-579d-46b8-8ef3-54d157312839",
   "metadata": {},
   "source": [
    "The matrix form of the iterative algorithm follows this basic structure: $$x^{(k)} = Tx^{(k-1)} + c\n",
    "$$ This function completes $k$ iterations as estimated in the previous function and then checks if the residual falls within the given error threshold. The residual is defined as $r = b - Ax\n",
    "$. When the difference between the residuals of two successive iteration falls below the threshold, iterations are complete and the system has converged to a solution."
   ]
  },
  {
   "cell_type": "code",
   "execution_count": 10,
   "id": "a4558289-a498-42e8-ab27-d4eca620fd7b",
   "metadata": {
    "id": "a4558289-a498-42e8-ab27-d4eca620fd7b",
    "tags": []
   },
   "outputs": [],
   "source": [
    "def jacobi_method(A, x0, threshold, k):\n",
    "\n",
    "    x = x0.copy()  # Ensure x is a column vector\n",
    "    total_iter = 0 # initialize total iterations counter variable\n",
    "    prev_residual_norm = np.inf  # initialize with infinity to ensure the loop starts\n",
    "\n",
    "\n",
    "    while True:\n",
    "        total_iter += 1  # update counter by 1 each iteration\n",
    "        x = T_j @ x + c_j  # update x using the Jacobi iteration formula\n",
    "        residual = b - A @ x  # calculate current residual\n",
    "        residual_norm = np.linalg.norm(residual)  # calculate the norm of the current residual\n",
    "        prev_residual_norm = residual_norm\n",
    "        residual_error = np.linalg.norm(residual - prev_residual_norm)\n",
    "\n",
    "\n",
    "        if total_iter == k:\n",
    "        # show user approximated x calculation after k iterations\n",
    "            print(f\"Solution after {total_iter} iterations:\\n {x}\\n\")\n",
    "            print(f\"Residual: {residual_norm:.5f}\")\n",
    "            if residual_error <= threshold:\n",
    "                print(f\"Residual error is below or equal to the threshold after {total_iter} iterations.\")\n",
    "                print(f\"Approximate solution:\\n {x}\\n\")\n",
    "                print()\n",
    "                break\n",
    "\n",
    "        if residual_error < threshold:\n",
    "         # show user total iterations needed for residual difference to fall below threshold\n",
    "        # and final x approximation\n",
    "            print(f\"Total number of iterations needed: {total_iter}\\n\")\n",
    "            print(f\"Approximate solution after {total_iter} iterations:\\n {x}\\n\")\n",
    "            print(f\"Residual: {residual_norm:.5f}\")\n",
    "            print()\n",
    "            break\n",
    "\n",
    "\n",
    "    print(f\"This error falls below the threshold of {threshold}.\")\n",
    "    print(\"x has been successfully calculated using the Jacobi iterative method.\")\n",
    "\n",
    "    return x\n"
   ]
  },
  {
   "cell_type": "markdown",
   "id": "82481432-6f0b-4c50-b28a-970832878026",
   "metadata": {
    "id": "82481432-6f0b-4c50-b28a-970832878026"
   },
   "source": [
    "## Gauss-Seidel"
   ]
  },
  {
   "cell_type": "markdown",
   "id": "cDnZiCNC2S75",
   "metadata": {
    "id": "cDnZiCNC2S75"
   },
   "source": [
    "### Spectral Radius (Gauss-Seidel)\n",
    "The spectral radius $r_g$ of the matrix $T_g$, derived from components of user-given matrix $A$, determines whether or not $\\vec{x}$ can be calculated using the Gauss iterative method.$$T_g = (D-L)^{-1}(U)$$ "
   ]
  },
  {
   "cell_type": "code",
   "execution_count": 11,
   "id": "de707aa2-fc00-422d-aefd-e20177539f1b",
   "metadata": {
    "id": "de707aa2-fc00-422d-aefd-e20177539f1b",
    "tags": []
   },
   "outputs": [],
   "source": [
    "def spectral_radius_gauss(A):\n",
    "    \"\"\"\n",
    "    Arugment: matrix A\n",
    "    This function first determines if the spectral radius can be\n",
    "    calculated by checking for zero entries in the diagonal of A.\n",
    "    If any zeros are found, the code will stop running.\n",
    "    Components of A (D, L, U) are extracted to find T_g and then calculate\n",
    "    the spectral radius, which is assigned to variable r_g.\n",
    "    If the spectral radius is greater than or equal to 1, the code will\n",
    "    stop running.\n",
    "    Returns spectral radius r_g.\n",
    "    \"\"\"\n",
    "\n",
    "    np.set_printoptions(formatter={'float': lambda x: f'{x:.4f}'})\n",
    "    global D, L, U, D_L_inv, T_g\n",
    "\n",
    "    if not np.all(np.diag(A)) != 0: # make sure diagonals are nonzero before continuing\n",
    "        print(\"The diagonal of matrix A includes zero entries, spectral radius undefined.\")\n",
    "        return False\n",
    "\n",
    "    D = np.diag(diag(A)) # extract diagonal values\n",
    "    L = -np.tril(A, k=-1) # extract values below diagonal\n",
    "    U = -np.triu(A, k=1) # extract values above diagonal\n",
    "    D_L_inv = np.linalg.inv(D-L) # inverse of diagonal matrix\n",
    "\n",
    "    T_g = D_L_inv@U # calculate matrix T_g\n",
    "\n",
    "    eigenvalues = np.linalg.eigvals(T_g) # eigenvalues of T_g\n",
    "    abs_eigenvalues = np.abs(eigenvalues) # absolute values of eigenvalues\n",
    "    max_eigenvalue = np.max(abs_eigenvalues) # maximum of the absolute values\n",
    "    r_g = max_eigenvalue\n",
    "\n",
    "    if r_g >= 1:\n",
    "        print(\"x will not converge\") # spectral radius must be less than 1\n",
    "        return False\n",
    "    else:\n",
    "        print(\"x will converge via Gauss-Seidel method\")\n",
    "        print(f\"Gauss-Seidel spectral radius: {r_g:.4f}\")\n",
    "        print()\n",
    "    return r_g # r_g = spectral radius\n"
   ]
  },
  {
   "cell_type": "markdown",
   "id": "fnNouw8r2XR9",
   "metadata": {
    "id": "fnNouw8r2XR9"
   },
   "source": [
    "### Number of Iterations (Gauss-Seidel)"
   ]
  },
  {
   "cell_type": "code",
   "execution_count": 12,
   "id": "f4984055-8d6d-4fee-a813-3568970e9dfa",
   "metadata": {
    "id": "f4984055-8d6d-4fee-a813-3568970e9dfa",
    "tags": []
   },
   "outputs": [],
   "source": [
    "def num_iterations_gauss(A):\n",
    "    \"\"\"\n",
    "    Argument: matrix A\n",
    "    This function first takes user input for the convergence threshold.\n",
    "    The first iteration x1 and the difference x1-x0 are calculated to be\n",
    "    used in the formula to find the estimated number of iterations k.\n",
    "    Returns number of iterations k.\n",
    "    \"\"\"\n",
    "\n",
    "    global threshold, c_g, x1\n",
    "\n",
    "    # threshold input\n",
    "    threshold = float(input(\"Enter the convergence threshold (suggested: 0.001 or smaller): \"))\n",
    "    print()\n",
    "\n",
    "    c_g = D_L_inv@b # calculate c_g\n",
    "\n",
    "    x1 = T_g@x0 + c_g # first iteration x1\n",
    "\n",
    "    diff = np.linalg.norm(x1-x0) # difference between x1 and x0\n",
    "\n",
    "    k = int(np.ceil(np.log(threshold * (1 - r_g) / diff) / np.log(r_g))) # calculate k\n",
    "    print(f\"Estimated number of iterations: {k}\")\n",
    "    print()\n",
    "    return k\n"
   ]
  },
  {
   "cell_type": "markdown",
   "id": "Dy5ioQ-V218s",
   "metadata": {
    "id": "Dy5ioQ-V218s"
   },
   "source": [
    "### Gauss-Seidel Iterative Method"
   ]
  },
  {
   "cell_type": "code",
   "execution_count": 13,
   "id": "fdb001f2-4d06-4326-8170-80f4dd87ea7b",
   "metadata": {
    "id": "fdb001f2-4d06-4326-8170-80f4dd87ea7b",
    "tags": []
   },
   "outputs": [],
   "source": [
    "def gauss_method(A, x0, threshold, k):\n",
    "    \"\"\"\n",
    "    Arguments: matrix A, initial guess x0, threshold\n",
    "    This function first calculates the true x solution in order to\n",
    "    determine the error between x_true and approximated x.\n",
    "    The iterations take place inside a while loop that keep track of\n",
    "    the total number of iterations.\n",
    "    When k iterations are calculated, the approximate solution is displayed.\n",
    "    Iterations continue until the error falls below the threshold.\n",
    "    Returns final x approximation.\n",
    "    \"\"\"\n",
    "\n",
    "    x = x0.copy()  # Ensure x is a column vector\n",
    "    total_iter = 0 # initialize total iterations counter variable\n",
    "    prev_residual_norm = np.inf  # initialize with infinity to ensure the loop starts\n",
    "\n",
    "    while True:\n",
    "        total_iter += 1  # update counter by 1 each iteration\n",
    "        x = T_g @ x + c_g  # update x using the Gauss-Seidel iteration formula\n",
    "        residual = b - A @ x  # calculate current residual\n",
    "        residual_norm = np.linalg.norm(residual)  # calculate the norm of the current residual\n",
    "        prev_residual_norm = residual_norm\n",
    "        residual_error = np.linalg.norm(residual - prev_residual_norm)\n",
    "\n",
    "\n",
    "        if total_iter == k:\n",
    "        # show user approximated x calculation after k iterations\n",
    "            print(f\"Solution after {total_iter} iterations:\\n {x}\\n\")\n",
    "            print(f\"Residual: {residual_norm:.5f}\")\n",
    "            if residual_error <= threshold:\n",
    "                print(f\"Residual error is below or equal to the threshold after {total_iter} iterations.\")\n",
    "                print(f\"Approximate solution:\\n {x}\\n\")\n",
    "                print()\n",
    "                break\n",
    "\n",
    "        if residual_error < threshold:\n",
    "         # show user total iterations needed for residual difference to fall below threshold\n",
    "        # and final x approximation\n",
    "            print(f\"Total number of iterations needed: {total_iter}\\n\")\n",
    "            print(f\"Approximate solution after {total_iter} iterations:\\n {x}\\n\")\n",
    "            print(f\"Residual: {residual_norm:.5f}\")\n",
    "            print()\n",
    "            break\n",
    "\n",
    "\n",
    "    print(f\"This error falls below the threshold of {threshold}.\")\n",
    "    print(\"x has been successfully calculated using the Gauss-Seidel iterative method.\")\n",
    "\n",
    "    return x\n"
   ]
  },
  {
   "cell_type": "markdown",
   "id": "AMCPionNIe-F",
   "metadata": {
    "id": "AMCPionNIe-F"
   },
   "source": [
    "## Successive Over-Relaxation (SOR)"
   ]
  },
  {
   "cell_type": "markdown",
   "id": "6f382053-ac2d-4fe1-97c9-9e8c9629000b",
   "metadata": {},
   "source": [
    "### Omega"
   ]
  },
  {
   "cell_type": "markdown",
   "id": "641bf630-f7e3-427f-ac92-4c85b2545375",
   "metadata": {},
   "source": [
    "The SOR method is very similar to Gauss-Seidel, except it has a weight parameter $\\omega$ which is a constant that speeds up convergence. In order for the solution to converge, $\\omega$ must be between 0 and 2. It is calculated using the Jacobi matrix's spectral radius: $$\\omega = \\frac{2}{1 + \\sqrt{1 - (r_j)^2}}$$"
   ]
  },
  {
   "cell_type": "code",
   "execution_count": 14,
   "id": "FDL1Nyo3OiFU",
   "metadata": {
    "id": "FDL1Nyo3OiFU"
   },
   "outputs": [],
   "source": [
    "def omega(A):\n",
    "    w = 2 / (1 + np.sqrt(1-(r_j)**2))\n",
    "    print(f\"omega: {w:.4f}\")\n",
    "    if (w>0 and w<2):\n",
    "        print(\"The omega value is valid, since it is between 0 and 2.\")\n",
    "        print()\n",
    "    else:\n",
    "        print(\"x will not converge, due to invalid omega.\")\n",
    "\n",
    "    return w\n"
   ]
  },
  {
   "cell_type": "markdown",
   "id": "AJxYgFcl2_fp",
   "metadata": {
    "id": "AJxYgFcl2_fp"
   },
   "source": [
    "### Spectral Radius (SOR)\n",
    "The spectral radius $r$ of the matrix $T_\\omega$, derived from components of user-given matrix $A$, determines whether or not $\\vec{x}$ can be calculated using the Gauss iterative method.$$T_\\omega = (D - \\omega L)^{-1} \\left[ (1 - \\omega)D + \\omega U \\right]$$\n"
   ]
  },
  {
   "cell_type": "code",
   "execution_count": 15,
   "id": "2skRmKPLPY_4",
   "metadata": {
    "id": "2skRmKPLPY_4"
   },
   "outputs": [],
   "source": [
    "def spectral_radius_sor(A, w):\n",
    "    global T_w\n",
    "\n",
    "    np.set_printoptions(formatter={'float': lambda x: f'{x:.4f}'})\n",
    "    if not np.all(np.diag(A)) != 0: # make sure diagonals are nonzero before continuing\n",
    "        print(\"The diagonal of matrix A includes zero entries, spectral radius undefined.\")\n",
    "        return False\n",
    "\n",
    "    D = np.diag(diag(A)) # extract diagonal values\n",
    "    L = -np.tril(A, k=-1) # extract values below diagonal\n",
    "    U = -np.triu(A, k=1) # extract values above diagonal\n",
    "\n",
    "    T_w = np.linalg.inv(D - w * L) @ ((1 - w) * D + w * U) # calculate matrix T_w\n",
    "\n",
    "    eigenvalues = np.linalg.eigvals(T_w) # eigenvalues of T_w\n",
    "    abs_eigenvalues = np.abs(eigenvalues) # absolute values of eigenvalues\n",
    "    max_eigenvalue = np.max(abs_eigenvalues) # maximum of the absolute values\n",
    "    r_w = max_eigenvalue\n",
    "\n",
    "    if r_w >= 1:\n",
    "        print(\"x will not converge via SOR method\") # spectral radius must be less than 1\n",
    "        return False\n",
    "    else:\n",
    "        print(\"x will converge via SOR method\")\n",
    "        print(f\"SOR spectral radius: {r_w:.4f}\")\n",
    "        print()\n",
    "\n",
    "    return r_w # r_w = spectral radius"
   ]
  },
  {
   "cell_type": "markdown",
   "id": "1b84e7b8-61d0-4fb1-bdab-edda88195672",
   "metadata": {},
   "source": [
    "### Number of Iterations (SOR)"
   ]
  },
  {
   "cell_type": "code",
   "execution_count": 16,
   "id": "BZwLRiEZVEoj",
   "metadata": {
    "id": "BZwLRiEZVEoj"
   },
   "outputs": [],
   "source": [
    "def num_iterations_sor(A):\n",
    "    \"\"\"\n",
    "    This function first takes user input for the convergence threshold.\n",
    "    The first iteration x1 and the difference x1-x0 are calculated to be\n",
    "    used in the formula to find the estimated number of iterations k.\n",
    "    Returns number of iterations k.\n",
    "    \"\"\"\n",
    "\n",
    "    global threshold, c_w, x1\n",
    "    threshold = float(input(\"Enter the convergence threshold (suggested: 0.001 or smaller): \"))\n",
    "    print()\n",
    "\n",
    "    # calculate c\n",
    "    c_w = w * np.linalg.inv(D - w * L) @b\n",
    "\n",
    "    # first iteration x1\n",
    "    x1 = T_w@x0 + c_w\n",
    "\n",
    "    diff = np.linalg.norm(x1-x0)\n",
    "\n",
    "    k = int(np.ceil(np.log(threshold * (1 - r_w) / diff) / np.log(r_w)))\n",
    "    print(f\"Estimated number of iterations: {k}\")\n",
    "    print()\n",
    "    return k\n"
   ]
  },
  {
   "cell_type": "markdown",
   "id": "214a9301-2548-4ed6-8c2b-e583e033cfd5",
   "metadata": {},
   "source": [
    "### SOR Iterative Method"
   ]
  },
  {
   "cell_type": "code",
   "execution_count": 17,
   "id": "sJp6UScUIcp5",
   "metadata": {
    "id": "sJp6UScUIcp5"
   },
   "outputs": [],
   "source": [
    "def sor_method(A, x0, w, threshold, k):\n",
    "    \"\"\"\n",
    "    Arguments: matrix A, initial guess x0, relaxation parameter omega,\n",
    "               threshold, number of iterations k, true solution vector b\n",
    "    This function iteratively calculates the solution of Ax=b using the Successive Over-Relaxation (SOR) method.\n",
    "    \"\"\"\n",
    "\n",
    "    x = x0.copy()  # Ensure x is a column vector\n",
    "    total_iter = 0  # initialize total iterations counter variable\n",
    "    prev_residual_norm = np.inf  # initialize with infinity to ensure the loop starts\n",
    "\n",
    "    while True:\n",
    "        total_iter += 1  # update counter by 1 each iteration\n",
    "        x = T_w @ x + c_w\n",
    "        residual = b - A @ x  # calculate current residual\n",
    "        residual_norm = np.linalg.norm(residual)  # calculate the norm of the current residual\n",
    "        prev_residual_norm = residual_norm\n",
    "        residual_error = np.linalg.norm(residual - prev_residual_norm)\n",
    "\n",
    "\n",
    "        if total_iter == k:\n",
    "        # show user approximated x calculation after k iterations\n",
    "            print(f\"Solution after {total_iter} iterations:\\n {x}\\n\")\n",
    "            print(f\"Residual: {residual_norm:.5f}\")\n",
    "            if residual_error <= threshold:\n",
    "                print(f\"Residual error is below or equal to the threshold after {total_iter} iterations.\")\n",
    "                print(f\"Approximate solution:\\n {x}\\n\")\n",
    "                print()\n",
    "                break\n",
    "\n",
    "        if residual_error < threshold:\n",
    "        # show user total iterations needed for residual difference to fall below threshold\n",
    "        # and final x approximation\n",
    "            print(f\"Total number of iterations needed: {total_iter}\\n\")\n",
    "            print(f\"Approximate solution after {total_iter} iterations:\\n {x}\\n\")\n",
    "            print(f\"Residual: {residual_norm:.5f}\")\n",
    "            print()\n",
    "            break\n",
    "\n",
    "\n",
    "    print(f\"This error falls below the threshold of {threshold}.\")\n",
    "    print(\"x has been successfully calculated using the SOR iterative method.\")\n",
    "\n",
    "    return x"
   ]
  },
  {
   "cell_type": "markdown",
   "id": "28e67be3-3b45-4a12-8c23-69c5a52c727b",
   "metadata": {
    "id": "28e67be3-3b45-4a12-8c23-69c5a52c727b"
   },
   "source": [
    "### Test"
   ]
  },
  {
   "cell_type": "markdown",
   "id": "a80ca565-97d4-40e6-b19e-37281a4f6eef",
   "metadata": {},
   "source": [
    "In order to decide which method to use, we must first calculate the spectral radius for all three methods. After comparing all the spectral radii, the method with the smallest spectral radius will be chosen and its functions are run."
   ]
  },
  {
   "cell_type": "code",
   "execution_count": 18,
   "id": "c69d24d9-cb34-4160-b946-7db0382d4226",
   "metadata": {
    "colab": {
     "base_uri": "https://localhost:8080/",
     "height": 365
    },
    "id": "c69d24d9-cb34-4160-b946-7db0382d4226",
    "outputId": "793ebde1-33c1-45fb-a380-d94ef44071f4",
    "tags": []
   },
   "outputs": [
    {
     "name": "stdout",
     "output_type": "stream",
     "text": [
      "x will converge via Jacobi method\n",
      "Jacobi spectral radius: 0.9952\n",
      "\n",
      "x will converge via Gauss-Seidel method\n",
      "Gauss-Seidel spectral radius: 0.9904\n",
      "\n",
      "omega: 1.8215\n",
      "The omega value is valid, since it is between 0 and 2.\n",
      "\n",
      "x will converge via SOR method\n",
      "SOR spectral radius: 0.8215\n",
      "\n",
      "x will converge faster using the SOR method because its spectral radius is smaller\n",
      "\n"
     ]
    },
    {
     "name": "stdin",
     "output_type": "stream",
     "text": [
      "Enter the convergence threshold (suggested: 0.001 or smaller):  .001\n"
     ]
    },
    {
     "name": "stdout",
     "output_type": "stream",
     "text": [
      "\n",
      "Estimated number of iterations: 103\n",
      "\n",
      "Solution after 103 iterations:\n",
      " [[38846.8741]\n",
      " [32293.7483]\n",
      " [36640.6228]\n",
      " [21787.4974]\n",
      " [24634.3721]\n",
      " [20081.2469]\n",
      " [54928.1218]\n",
      " [50874.9966]\n",
      " [56321.8717]\n",
      " [45668.7467]\n",
      " [49415.6218]\n",
      " [43762.4969]\n",
      " [62209.3721]\n",
      " [54556.2473]\n",
      " [61603.1225]\n",
      " [30949.9977]\n",
      " [43296.8729]\n",
      " [38243.7481]\n",
      " [45590.6234]\n",
      " [41237.4985]\n",
      " [51084.3738]\n",
      " [46131.2489]\n",
      " [49878.1241]\n",
      " [45424.9992]\n",
      " [50071.8744]\n",
      " [27418.7495]\n",
      " [36365.6246]\n",
      " [19212.4997]\n",
      " [24259.3748]\n",
      " [3106.2499]\n",
      " [10853.1249]]\n",
      "\n",
      "Residual: 0.00050\n",
      "Total number of iterations needed: 111\n",
      "\n",
      "Approximate solution after 111 iterations:\n",
      " [[38846.8748]\n",
      " [32293.7496]\n",
      " [36640.6245]\n",
      " [21787.4994]\n",
      " [24634.3743]\n",
      " [20081.2492]\n",
      " [54928.1242]\n",
      " [50874.9992]\n",
      " [56321.8742]\n",
      " [45668.7492]\n",
      " [49415.6243]\n",
      " [43762.4993]\n",
      " [62209.3744]\n",
      " [54556.2494]\n",
      " [61603.1244]\n",
      " [30949.9995]\n",
      " [43296.8745]\n",
      " [38243.7496]\n",
      " [45590.6246]\n",
      " [41237.4997]\n",
      " [51084.3747]\n",
      " [46131.2498]\n",
      " [49878.1248]\n",
      " [45424.9998]\n",
      " [50071.8749]\n",
      " [27418.7499]\n",
      " [36365.6249]\n",
      " [19212.4999]\n",
      " [24259.3750]\n",
      " [3106.2500]\n",
      " [10853.1250]]\n",
      "\n",
      "Residual: 0.00014\n",
      "\n",
      "This error falls below the threshold of 0.001.\n",
      "x has been successfully calculated using the SOR iterative method.\n"
     ]
    }
   ],
   "source": [
    "\n",
    "while True:\n",
    "    #A, x0 = user_input()\n",
    "\n",
    "    r_j = spectral_radius_jacobi(A)\n",
    "    if not r_j:\n",
    "        print(\"x cannot be calculated via the Jacobi method.\")\n",
    "        break\n",
    "\n",
    "    r_g = spectral_radius_gauss(A)\n",
    "    if not r_g:\n",
    "        print(\"x cannot be calculated via the Gauss-Seidel method.\")\n",
    "        break\n",
    "\n",
    "    w = omega(A)\n",
    "    if not w:\n",
    "        print(\"x cannot be calculated via the SOR method.\")\n",
    "        break\n",
    "    r_w = spectral_radius_sor(A,w)\n",
    "    if not r_w:\n",
    "        print(\"x cannot be calculated via the SOR method.\")\n",
    "        break\n",
    "\n",
    "    if (r_j<r_g and r_j<r_w):\n",
    "        print(\"x will converge faster using the Jacobi method because its spectral radius is smaller.\")\n",
    "        print()\n",
    "        k = num_iterations_jacobi(A)\n",
    "        x = jacobi_method(A, x0, threshold, k)\n",
    "        break\n",
    "    if (r_g < r_j and r_g < r_w):\n",
    "        print(\"x will converge faster using the Gauss-Seidel method because its spectral radius is smaller\")\n",
    "        print()\n",
    "        k = num_iterations_gauss(A)\n",
    "        x = gauss_method(A, x0, threshold, k)\n",
    "        break\n",
    "    if (r_w < r_j and r_w < r_g):\n",
    "        print(\"x will converge faster using the SOR method because its spectral radius is smaller\")\n",
    "        print()\n",
    "        k = num_iterations_sor(A)\n",
    "        x = sor_method(A, x0, w, threshold, k)\n",
    "        break\n",
    "\n"
   ]
  },
  {
   "cell_type": "code",
   "execution_count": 19,
   "id": "15b0b688-3929-4253-97cb-0d6e5b940447",
   "metadata": {
    "tags": []
   },
   "outputs": [
    {
     "data": {
      "text/plain": [
       "43296.87453674761"
      ]
     },
     "execution_count": 19,
     "metadata": {},
     "output_type": "execute_result"
    }
   ],
   "source": [
    "#c\n",
    "median_x = np.median(x)\n",
    "median_x"
   ]
  },
  {
   "cell_type": "code",
   "execution_count": 22,
   "id": "51a37163-35af-4401-931c-0c99e8b9207a",
   "metadata": {
    "tags": []
   },
   "outputs": [
    {
     "data": {
      "text/plain": [
       "array([82143.7494, 75590.6242, 79937.4990, 65084.3739, 67931.2488,\n",
       "       63378.1238, 98224.9988, 94171.8738, 99618.7488, 88965.6238,\n",
       "       92712.4988, 87059.3738, 105506.2489, 97853.1239, 104899.9990,\n",
       "       74246.8740, 86593.7491, 81540.6241, 88887.4992, 84534.3742,\n",
       "       94381.2493, 89428.1243, 93174.9993, 88721.8744, 93368.7494,\n",
       "       70715.6244, 79662.4994, 62509.3745, 67556.2495, 46403.1245,\n",
       "       54149.9995, 43296.8745])"
      ]
     },
     "execution_count": 22,
     "metadata": {},
     "output_type": "execute_result"
    }
   ],
   "source": [
    "#add c to each x\n",
    "x_plus_c = x + median_x\n",
    "\n",
    "#add c as the 32nd element\n",
    "x_plus_c = np.append(x_plus_c, median_x)\n",
    "x_plus_c"
   ]
  }
 ],
 "metadata": {
  "colab": {
   "provenance": []
  },
  "kernelspec": {
   "display_name": "Python 3 (ipykernel)",
   "language": "python",
   "name": "python3"
  },
  "language_info": {
   "codemirror_mode": {
    "name": "ipython",
    "version": 3
   },
   "file_extension": ".py",
   "mimetype": "text/x-python",
   "name": "python",
   "nbconvert_exporter": "python",
   "pygments_lexer": "ipython3",
   "version": "3.11.4"
  }
 },
 "nbformat": 4,
 "nbformat_minor": 5
}
